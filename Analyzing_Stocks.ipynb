{
 "cells": [
  {
   "cell_type": "code",
   "execution_count": 82,
   "id": "36f1f085-58b2-4716-9006-6cc01850bc4d",
   "metadata": {},
   "outputs": [],
   "source": [
    "import os\n",
    "import requests\n",
    "import json\n",
    "import pandas as pd\n",
    "import hvplot.pandas\n",
    "import numpy as np\n",
    "from dotenv import load_dotenv\n",
    "import alpaca_trade_api as tradeapi\n",
    "from MCForecastTools import MCSimulation\n",
    "\n",
    "%matplotlib inline"
   ]
  },
  {
   "cell_type": "code",
   "execution_count": 83,
   "id": "02cf553f-16ef-4e3b-b8d2-703aebd18b41",
   "metadata": {},
   "outputs": [
    {
     "data": {
      "text/plain": [
       "True"
      ]
     },
     "execution_count": 83,
     "metadata": {},
     "output_type": "execute_result"
    }
   ],
   "source": [
    "load_dotenv()"
   ]
  },
  {
   "cell_type": "code",
   "execution_count": 84,
   "id": "e74f61ee-b470-40b4-a14b-7694c8510975",
   "metadata": {},
   "outputs": [],
   "source": [
    "# Retrieve API keys for Alpaca\n",
    "alpaca_api_key = os.getenv(\"ALPACA_API_KEY\")\n",
    "alpaca_secret_key = os.getenv(\"ALPACA_SECRET_KEY\")"
   ]
  },
  {
   "cell_type": "code",
   "execution_count": 85,
   "id": "86fae67b-2366-45da-97b4-3477c286b0a8",
   "metadata": {},
   "outputs": [],
   "source": [
    "# Create REST object for Alpaca calls\n",
    "alpaca = tradeapi.REST(\n",
    "    alpaca_api_key,\n",
    "    alpaca_secret_key,\n",
    "    api_version=\"v2\"\n",
    ")"
   ]
  },
  {
   "cell_type": "code",
   "execution_count": 100,
   "id": "476190b5-2d10-422a-8339-56bb838825d4",
   "metadata": {},
   "outputs": [],
   "source": [
    "#Perform set up for baseline Monte Carlo analysis for SPY\n",
    "spy_baseline_ticker = [\"SPY\"]\n",
    "stock_timeframe = \"1Day\"\n",
    "stock_start_date = pd.Timestamp(\"2017-05-11\", tz=\"America/New_York\").isoformat()\n",
    "stock_end_date = pd.Timestamp(\"2022-05-11\", tz=\"America/New_York\").isoformat()\n",
    "\n",
    "spy_baseline_df = alpaca.get_bars(\n",
    "    spy_baseline_ticker,\n",
    "    stock_timeframe,\n",
    "    start=stock_start_date,\n",
    "    end=stock_end_date\n",
    ").df\n",
    "\n",
    "#Strip timestamp and leave only the date as the index\n",
    "spy_baseline_df.index = spy_baseline_df.index.date\n",
    "\n",
    "# Create multi-level dataframe for MCSimulation call\n",
    "SPY = pd.concat([spy_baseline_df], axis = 1, keys=['SPY'])"
   ]
  },
  {
   "cell_type": "code",
   "execution_count": 101,
   "id": "ceec97ce-e2c7-4a1b-bd5c-b1e91525e749",
   "metadata": {},
   "outputs": [
    {
     "data": {
      "text/html": [
       "<div>\n",
       "<style scoped>\n",
       "    .dataframe tbody tr th:only-of-type {\n",
       "        vertical-align: middle;\n",
       "    }\n",
       "\n",
       "    .dataframe tbody tr th {\n",
       "        vertical-align: top;\n",
       "    }\n",
       "\n",
       "    .dataframe thead tr th {\n",
       "        text-align: left;\n",
       "    }\n",
       "</style>\n",
       "<table border=\"1\" class=\"dataframe\">\n",
       "  <thead>\n",
       "    <tr>\n",
       "      <th></th>\n",
       "      <th colspan=\"9\" halign=\"left\">SPY</th>\n",
       "    </tr>\n",
       "    <tr>\n",
       "      <th></th>\n",
       "      <th>open</th>\n",
       "      <th>high</th>\n",
       "      <th>low</th>\n",
       "      <th>close</th>\n",
       "      <th>volume</th>\n",
       "      <th>trade_count</th>\n",
       "      <th>vwap</th>\n",
       "      <th>symbol</th>\n",
       "      <th>daily_return</th>\n",
       "    </tr>\n",
       "  </thead>\n",
       "  <tbody>\n",
       "    <tr>\n",
       "      <th>2017-05-11</th>\n",
       "      <td>239.31</td>\n",
       "      <td>239.5700</td>\n",
       "      <td>238.13</td>\n",
       "      <td>239.38</td>\n",
       "      <td>62269354</td>\n",
       "      <td>211029</td>\n",
       "      <td>239.088106</td>\n",
       "      <td>SPY</td>\n",
       "      <td>NaN</td>\n",
       "    </tr>\n",
       "    <tr>\n",
       "      <th>2017-05-12</th>\n",
       "      <td>239.05</td>\n",
       "      <td>239.4273</td>\n",
       "      <td>238.67</td>\n",
       "      <td>238.98</td>\n",
       "      <td>53912730</td>\n",
       "      <td>158255</td>\n",
       "      <td>239.000514</td>\n",
       "      <td>SPY</td>\n",
       "      <td>-0.001671</td>\n",
       "    </tr>\n",
       "    <tr>\n",
       "      <th>2017-05-15</th>\n",
       "      <td>239.49</td>\n",
       "      <td>240.4400</td>\n",
       "      <td>239.45</td>\n",
       "      <td>240.30</td>\n",
       "      <td>61868937</td>\n",
       "      <td>193291</td>\n",
       "      <td>240.042085</td>\n",
       "      <td>SPY</td>\n",
       "      <td>0.005523</td>\n",
       "    </tr>\n",
       "    <tr>\n",
       "      <th>2017-05-16</th>\n",
       "      <td>240.64</td>\n",
       "      <td>240.6700</td>\n",
       "      <td>239.63</td>\n",
       "      <td>240.08</td>\n",
       "      <td>51241791</td>\n",
       "      <td>183988</td>\n",
       "      <td>240.104677</td>\n",
       "      <td>SPY</td>\n",
       "      <td>-0.000916</td>\n",
       "    </tr>\n",
       "    <tr>\n",
       "      <th>2017-05-17</th>\n",
       "      <td>238.09</td>\n",
       "      <td>238.6400</td>\n",
       "      <td>235.75</td>\n",
       "      <td>235.82</td>\n",
       "      <td>172174107</td>\n",
       "      <td>523471</td>\n",
       "      <td>237.387451</td>\n",
       "      <td>SPY</td>\n",
       "      <td>-0.017744</td>\n",
       "    </tr>\n",
       "  </tbody>\n",
       "</table>\n",
       "</div>"
      ],
      "text/plain": [
       "               SPY                                                   \\\n",
       "              open      high     low   close     volume trade_count   \n",
       "2017-05-11  239.31  239.5700  238.13  239.38   62269354      211029   \n",
       "2017-05-12  239.05  239.4273  238.67  238.98   53912730      158255   \n",
       "2017-05-15  239.49  240.4400  239.45  240.30   61868937      193291   \n",
       "2017-05-16  240.64  240.6700  239.63  240.08   51241791      183988   \n",
       "2017-05-17  238.09  238.6400  235.75  235.82  172174107      523471   \n",
       "\n",
       "                                            \n",
       "                  vwap symbol daily_return  \n",
       "2017-05-11  239.088106    SPY          NaN  \n",
       "2017-05-12  239.000514    SPY    -0.001671  \n",
       "2017-05-15  240.042085    SPY     0.005523  \n",
       "2017-05-16  240.104677    SPY    -0.000916  \n",
       "2017-05-17  237.387451    SPY    -0.017744  "
      ]
     },
     "execution_count": 101,
     "metadata": {},
     "output_type": "execute_result"
    }
   ],
   "source": [
    "# Configure baseline Monte Carlo simulation to forecast 20 years cumulative returns\n",
    "MC_spy_baseline = MCSimulation(\n",
    "    portfolio_data = SPY,\n",
    "    weights = [1],\n",
    "    num_simulation = 100,\n",
    "    num_trading_days = 252*20\n",
    ")\n",
    "\n",
    "# Review the simulation input data\n",
    "MC_spy_baseline.portfolio_data.head()"
   ]
  },
  {
   "cell_type": "code",
   "execution_count": 102,
   "id": "7dd43474-7a02-428e-8932-4ddf59b612ac",
   "metadata": {},
   "outputs": [
    {
     "name": "stdout",
     "output_type": "stream",
     "text": [
      "Running Monte Carlo simulation number 0.\n",
      "Running Monte Carlo simulation number 10.\n",
      "Running Monte Carlo simulation number 20.\n",
      "Running Monte Carlo simulation number 30.\n",
      "Running Monte Carlo simulation number 40.\n",
      "Running Monte Carlo simulation number 50.\n",
      "Running Monte Carlo simulation number 60.\n",
      "Running Monte Carlo simulation number 70.\n",
      "Running Monte Carlo simulation number 80.\n",
      "Running Monte Carlo simulation number 90.\n"
     ]
    }
   ],
   "source": [
    "test2_df = MC_spy_baseline.calc_cumulative_return()"
   ]
  },
  {
   "cell_type": "code",
   "execution_count": 103,
   "id": "bc2de6bc-de0c-4755-8101-eb066b8ba721",
   "metadata": {},
   "outputs": [
    {
     "data": {
      "image/png": "[encoded data removed]",
      "text/plain": [
       "<Figure size 432x288 with 1 Axes>"
      ]
     },
     "metadata": {
      "needs_background": "light"
     },
     "output_type": "display_data"
    }
   ],
   "source": [
    "MC_line_plot = MC_spy_baseline.plot_simulation()"
   ]
  },
  {
   "cell_type": "code",
   "execution_count": 104,
   "id": "378e7894-c28d-4ed4-a150-10e91806a292",
   "metadata": {},
   "outputs": [
    {
     "data": {
      "image/png": "[encoded data removed]",
      "text/plain": [
       "<Figure size 432x288 with 1 Axes>"
      ]
     },
     "metadata": {
      "needs_background": "light"
     },
     "output_type": "display_data"
    }
   ],
   "source": [
    "MC_histo_plot = MC_spy_baseline.plot_distribution()"
   ]
  },
  {
   "cell_type": "code",
   "execution_count": 106,
   "id": "5a19a64d-5e68-4604-9a89-9a60cb2d82f0",
   "metadata": {},
   "outputs": [
    {
     "data": {
      "text/plain": [
       "count           100.000000\n",
       "mean             11.405625\n",
       "std              11.341873\n",
       "min               1.451305\n",
       "25%               4.257484\n",
       "50%               8.069840\n",
       "75%              13.970303\n",
       "max              56.327947\n",
       "95% CI Lower      1.667154\n",
       "95% CI Upper     45.250150\n",
       "Name: 5040, dtype: float64"
      ]
     },
     "metadata": {},
     "output_type": "display_data"
    }
   ],
   "source": [
    "# Generate SPY summary statistics from the 20-year Monte Carlo simulation\n",
    "MC_summary_stats = MC_spy_baseline.summarize_cumulative_return()\n",
    "\n",
    "# Review the 20-year Monte Carlo summary statistics\n",
    "display(MC_summary_stats)"
   ]
  },
  {
   "cell_type": "code",
   "execution_count": 107,
   "id": "a9b180eb-6c68-48ef-9332-db56c254fc75",
   "metadata": {},
   "outputs": [],
   "source": [
    "#Set up data for alpaca get_crypto_bars function call for crypto tokens\n",
    "crypto_ticker = [\"BTCUSD\", \"ETHUSD\"]\n",
    "crypto_timeframe = \"1Day\"\n",
    "crypto_start_date = pd.Timestamp(\"2017-01-31\", tz=\"America/New_York\").isoformat()\n",
    "crypto_end_date = pd.Timestamp(\"2022-03-31\", tz=\"America/New_York\").isoformat()"
   ]
  },
  {
   "cell_type": "code",
   "execution_count": 108,
   "id": "e1b31d65-585e-4c01-baa1-8c934aa5038d",
   "metadata": {
    "tags": []
   },
   "outputs": [],
   "source": [
    "#Alpaca call to retrieve crypto data for tickers in crypto_ticker\n",
    "crypto_closing_prices = alpaca.get_crypto_bars(\n",
    "    crypto_ticker,\n",
    "    crypto_timeframe,\n",
    "    start=crypto_start_date,\n",
    "    end=crypto_end_date\n",
    ").df\n",
    "\n",
    "#Strip timestamp and leave only the date as the index\n",
    "crypto_closing_prices.index = crypto_closing_prices.index.date"
   ]
  },
  {
   "cell_type": "code",
   "execution_count": 121,
   "id": "af323c8a-4fef-46eb-b7d2-b8c77f0acf30",
   "metadata": {},
   "outputs": [],
   "source": [
    "#Set up data for alpaca get_bars function call for stocks\n",
    "stock_ticker = [\"SHEL\", \"XOM\", \"AMZN\", \"TSLA\", \"AAPL\", \"RLGY\", \"FCEL\", \"CLNE\", \"MYRG\", \"SOFI\", \"FSM\"]\n",
    "stock_timeframe = \"1Day\"\n",
    "stock_start_date = pd.Timestamp(\"2017-01-31\", tz=\"America/New_York\").isoformat()\n",
    "stock_end_date = pd.Timestamp(\"2022-03-31\", tz=\"America/New_York\").isoformat()"
   ]
  },
  {
   "cell_type": "code",
   "execution_count": null,
   "id": "8bd4d696-5a9d-430c-8cc9-c9bf532cbe34",
   "metadata": {},
   "outputs": [],
   "source": []
  },
  {
   "cell_type": "code",
   "execution_count": 122,
   "id": "598eecc2-be19-4c76-b020-57da1719fbca",
   "metadata": {
    "tags": []
   },
   "outputs": [],
   "source": [
    "#Alpaca call to retrieve data for tickers in stock_ticker\n",
    "stock_closing_prices = alpaca.get_bars(\n",
    "    stock_ticker,\n",
    "    stock_timeframe,\n",
    "    start=stock_start_date,\n",
    "    end=stock_end_date\n",
    ").df\n",
    "\n",
    "#Strip timestamp and leave only the date as the index\n",
    "stock_closing_prices.index = stock_closing_prices.index.date\n"
   ]
  },
  {
   "cell_type": "code",
   "execution_count": 123,
   "id": "18ac4c98-7b18-4e4e-80c9-5c542da5afe8",
   "metadata": {},
   "outputs": [],
   "source": [
    "def create_individual_df(crypto_ticker, stock_ticker):\n",
    "    \n",
    "    combined_df_list = []\n",
    "    \n",
    "    for ticker in crypto_ticker:\n",
    "        ticker = crypto_closing_prices[crypto_closing_prices[\"symbol\"] == \n",
    "            ticker].drop([\"exchange\", \"open\", \"high\", \"low\", \"volume\", \"trade_count\", \"vwap\", \"symbol\"], axis=1)\n",
    "        ticker = ticker[~ticker.index.duplicated(keep='first')]\n",
    "        combined_df_list.append(ticker)\n",
    "    \n",
    "    for ticker in stock_ticker:\n",
    "        ticker = stock_closing_prices[stock_closing_prices[\"symbol\"] == \n",
    "            ticker].drop([\"open\", \"high\", \"low\", \"volume\", \"trade_count\", \"vwap\", \"symbol\"], axis=1)\n",
    "        combined_df_list.append(ticker)\n",
    "\n",
    "    return combined_df_list"
   ]
  },
  {
   "cell_type": "code",
   "execution_count": 124,
   "id": "19b81521-1b6f-47ae-bb47-dbf4a6f99d1e",
   "metadata": {},
   "outputs": [
    {
     "data": {
      "text/html": [
       "<div>\n",
       "<style scoped>\n",
       "    .dataframe tbody tr th:only-of-type {\n",
       "        vertical-align: middle;\n",
       "    }\n",
       "\n",
       "    .dataframe tbody tr th {\n",
       "        vertical-align: top;\n",
       "    }\n",
       "\n",
       "    .dataframe thead tr th {\n",
       "        text-align: left;\n",
       "    }\n",
       "</style>\n",
       "<table border=\"1\" class=\"dataframe\">\n",
       "  <thead>\n",
       "    <tr>\n",
       "      <th></th>\n",
       "      <th>BTCUSD</th>\n",
       "      <th>ETHUSD</th>\n",
       "      <th>SHEL</th>\n",
       "      <th>XOM</th>\n",
       "      <th>AMZN</th>\n",
       "      <th>TSLA</th>\n",
       "      <th>AAPL</th>\n",
       "      <th>RLGY</th>\n",
       "      <th>FCEL</th>\n",
       "      <th>CLNE</th>\n",
       "      <th>MYRG</th>\n",
       "      <th>SOFI</th>\n",
       "      <th>FSM</th>\n",
       "    </tr>\n",
       "    <tr>\n",
       "      <th></th>\n",
       "      <th>close</th>\n",
       "      <th>close</th>\n",
       "      <th>close</th>\n",
       "      <th>close</th>\n",
       "      <th>close</th>\n",
       "      <th>close</th>\n",
       "      <th>close</th>\n",
       "      <th>close</th>\n",
       "      <th>close</th>\n",
       "      <th>close</th>\n",
       "      <th>close</th>\n",
       "      <th>close</th>\n",
       "      <th>close</th>\n",
       "    </tr>\n",
       "  </thead>\n",
       "  <tbody>\n",
       "    <tr>\n",
       "      <th>2022-02-01</th>\n",
       "      <td>38429.17</td>\n",
       "      <td>2764.79</td>\n",
       "      <td>52.68</td>\n",
       "      <td>80.83</td>\n",
       "      <td>3023.87</td>\n",
       "      <td>931.25</td>\n",
       "      <td>174.61</td>\n",
       "      <td>16.36</td>\n",
       "      <td>4.46</td>\n",
       "      <td>6.34</td>\n",
       "      <td>94.90</td>\n",
       "      <td>13.27</td>\n",
       "      <td>3.52</td>\n",
       "    </tr>\n",
       "    <tr>\n",
       "      <th>2022-02-02</th>\n",
       "      <td>37019.84</td>\n",
       "      <td>2656.80</td>\n",
       "      <td>53.25</td>\n",
       "      <td>80.62</td>\n",
       "      <td>3012.25</td>\n",
       "      <td>905.66</td>\n",
       "      <td>175.84</td>\n",
       "      <td>16.28</td>\n",
       "      <td>4.19</td>\n",
       "      <td>6.03</td>\n",
       "      <td>92.57</td>\n",
       "      <td>12.16</td>\n",
       "      <td>3.42</td>\n",
       "    </tr>\n",
       "    <tr>\n",
       "      <th>2022-02-03</th>\n",
       "      <td>37566.75</td>\n",
       "      <td>2771.99</td>\n",
       "      <td>53.91</td>\n",
       "      <td>79.68</td>\n",
       "      <td>2776.91</td>\n",
       "      <td>891.14</td>\n",
       "      <td>172.90</td>\n",
       "      <td>16.13</td>\n",
       "      <td>4.07</td>\n",
       "      <td>5.86</td>\n",
       "      <td>90.75</td>\n",
       "      <td>11.57</td>\n",
       "      <td>3.30</td>\n",
       "    </tr>\n",
       "    <tr>\n",
       "      <th>2022-02-04</th>\n",
       "      <td>41557.54</td>\n",
       "      <td>3027.24</td>\n",
       "      <td>55.10</td>\n",
       "      <td>81.41</td>\n",
       "      <td>3152.79</td>\n",
       "      <td>923.32</td>\n",
       "      <td>172.39</td>\n",
       "      <td>16.46</td>\n",
       "      <td>4.28</td>\n",
       "      <td>6.00</td>\n",
       "      <td>90.17</td>\n",
       "      <td>11.89</td>\n",
       "      <td>3.24</td>\n",
       "    </tr>\n",
       "    <tr>\n",
       "      <th>2022-02-07</th>\n",
       "      <td>44916.93</td>\n",
       "      <td>3187.58</td>\n",
       "      <td>55.71</td>\n",
       "      <td>82.39</td>\n",
       "      <td>3158.71</td>\n",
       "      <td>907.34</td>\n",
       "      <td>171.66</td>\n",
       "      <td>16.45</td>\n",
       "      <td>4.37</td>\n",
       "      <td>6.20</td>\n",
       "      <td>91.02</td>\n",
       "      <td>11.72</td>\n",
       "      <td>3.50</td>\n",
       "    </tr>\n",
       "  </tbody>\n",
       "</table>\n",
       "</div>"
      ],
      "text/plain": [
       "              BTCUSD   ETHUSD   SHEL    XOM     AMZN    TSLA    AAPL   RLGY  \\\n",
       "               close    close  close  close    close   close   close  close   \n",
       "2022-02-01  38429.17  2764.79  52.68  80.83  3023.87  931.25  174.61  16.36   \n",
       "2022-02-02  37019.84  2656.80  53.25  80.62  3012.25  905.66  175.84  16.28   \n",
       "2022-02-03  37566.75  2771.99  53.91  79.68  2776.91  891.14  172.90  16.13   \n",
       "2022-02-04  41557.54  3027.24  55.10  81.41  3152.79  923.32  172.39  16.46   \n",
       "2022-02-07  44916.93  3187.58  55.71  82.39  3158.71  907.34  171.66  16.45   \n",
       "\n",
       "            FCEL  CLNE   MYRG   SOFI   FSM  \n",
       "           close close  close  close close  \n",
       "2022-02-01  4.46  6.34  94.90  13.27  3.52  \n",
       "2022-02-02  4.19  6.03  92.57  12.16  3.42  \n",
       "2022-02-03  4.07  5.86  90.75  11.57  3.30  \n",
       "2022-02-04  4.28  6.00  90.17  11.89  3.24  \n",
       "2022-02-07  4.37  6.20  91.02  11.72  3.50  "
      ]
     },
     "execution_count": 124,
     "metadata": {},
     "output_type": "execute_result"
    }
   ],
   "source": [
    "combined_ticker_list = crypto_ticker + stock_ticker\n",
    "combined_df = pd.concat(create_individual_df(crypto_ticker, stock_ticker), axis=1, \n",
    "                        keys=combined_ticker_list)\n",
    "combined_df = combined_df.dropna()\n",
    "combined_df.head()"
   ]
  },
  {
   "cell_type": "code",
   "execution_count": 125,
   "id": "6f1e89fe-9bad-4431-a062-e9a67512e150",
   "metadata": {},
   "outputs": [
    {
     "data": {
      "text/html": [
       "<div>\n",
       "<style scoped>\n",
       "    .dataframe tbody tr th:only-of-type {\n",
       "        vertical-align: middle;\n",
       "    }\n",
       "\n",
       "    .dataframe tbody tr th {\n",
       "        vertical-align: top;\n",
       "    }\n",
       "\n",
       "    .dataframe thead tr th {\n",
       "        text-align: left;\n",
       "    }\n",
       "</style>\n",
       "<table border=\"1\" class=\"dataframe\">\n",
       "  <thead>\n",
       "    <tr>\n",
       "      <th></th>\n",
       "      <th colspan=\"2\" halign=\"left\">BTCUSD</th>\n",
       "      <th colspan=\"2\" halign=\"left\">ETHUSD</th>\n",
       "      <th colspan=\"2\" halign=\"left\">SHEL</th>\n",
       "      <th colspan=\"2\" halign=\"left\">XOM</th>\n",
       "      <th colspan=\"2\" halign=\"left\">AMZN</th>\n",
       "      <th>...</th>\n",
       "      <th colspan=\"2\" halign=\"left\">FCEL</th>\n",
       "      <th colspan=\"2\" halign=\"left\">CLNE</th>\n",
       "      <th colspan=\"2\" halign=\"left\">MYRG</th>\n",
       "      <th colspan=\"2\" halign=\"left\">SOFI</th>\n",
       "      <th colspan=\"2\" halign=\"left\">FSM</th>\n",
       "    </tr>\n",
       "    <tr>\n",
       "      <th></th>\n",
       "      <th>close</th>\n",
       "      <th>daily_return</th>\n",
       "      <th>close</th>\n",
       "      <th>daily_return</th>\n",
       "      <th>close</th>\n",
       "      <th>daily_return</th>\n",
       "      <th>close</th>\n",
       "      <th>daily_return</th>\n",
       "      <th>close</th>\n",
       "      <th>daily_return</th>\n",
       "      <th>...</th>\n",
       "      <th>close</th>\n",
       "      <th>daily_return</th>\n",
       "      <th>close</th>\n",
       "      <th>daily_return</th>\n",
       "      <th>close</th>\n",
       "      <th>daily_return</th>\n",
       "      <th>close</th>\n",
       "      <th>daily_return</th>\n",
       "      <th>close</th>\n",
       "      <th>daily_return</th>\n",
       "    </tr>\n",
       "  </thead>\n",
       "  <tbody>\n",
       "    <tr>\n",
       "      <th>2022-03-24</th>\n",
       "      <td>44116.67</td>\n",
       "      <td>0.027585</td>\n",
       "      <td>3146.32</td>\n",
       "      <td>0.039038</td>\n",
       "      <td>55.02</td>\n",
       "      <td>0.005115</td>\n",
       "      <td>83.38</td>\n",
       "      <td>0.003007</td>\n",
       "      <td>3272.99</td>\n",
       "      <td>0.001478</td>\n",
       "      <td>...</td>\n",
       "      <td>6.62</td>\n",
       "      <td>0.007610</td>\n",
       "      <td>7.77</td>\n",
       "      <td>0.007782</td>\n",
       "      <td>99.63</td>\n",
       "      <td>0.004132</td>\n",
       "      <td>9.47</td>\n",
       "      <td>0.010672</td>\n",
       "      <td>3.90</td>\n",
       "      <td>-0.064748</td>\n",
       "    </tr>\n",
       "    <tr>\n",
       "      <th>2022-03-25</th>\n",
       "      <td>44433.32</td>\n",
       "      <td>0.007178</td>\n",
       "      <td>3113.85</td>\n",
       "      <td>-0.010320</td>\n",
       "      <td>55.59</td>\n",
       "      <td>0.010360</td>\n",
       "      <td>85.20</td>\n",
       "      <td>0.021828</td>\n",
       "      <td>3295.47</td>\n",
       "      <td>0.006868</td>\n",
       "      <td>...</td>\n",
       "      <td>6.22</td>\n",
       "      <td>-0.060423</td>\n",
       "      <td>7.92</td>\n",
       "      <td>0.019305</td>\n",
       "      <td>99.78</td>\n",
       "      <td>0.001506</td>\n",
       "      <td>9.01</td>\n",
       "      <td>-0.048574</td>\n",
       "      <td>3.84</td>\n",
       "      <td>-0.015385</td>\n",
       "    </tr>\n",
       "    <tr>\n",
       "      <th>2022-03-28</th>\n",
       "      <td>47624.51</td>\n",
       "      <td>0.071820</td>\n",
       "      <td>3391.14</td>\n",
       "      <td>0.089051</td>\n",
       "      <td>53.98</td>\n",
       "      <td>-0.028962</td>\n",
       "      <td>82.81</td>\n",
       "      <td>-0.028052</td>\n",
       "      <td>3379.81</td>\n",
       "      <td>0.025593</td>\n",
       "      <td>...</td>\n",
       "      <td>6.11</td>\n",
       "      <td>-0.017685</td>\n",
       "      <td>7.69</td>\n",
       "      <td>-0.029040</td>\n",
       "      <td>97.50</td>\n",
       "      <td>-0.022850</td>\n",
       "      <td>9.25</td>\n",
       "      <td>0.026637</td>\n",
       "      <td>3.70</td>\n",
       "      <td>-0.036458</td>\n",
       "    </tr>\n",
       "    <tr>\n",
       "      <th>2022-03-29</th>\n",
       "      <td>47255.62</td>\n",
       "      <td>-0.007746</td>\n",
       "      <td>3373.30</td>\n",
       "      <td>-0.005261</td>\n",
       "      <td>53.45</td>\n",
       "      <td>-0.009818</td>\n",
       "      <td>82.37</td>\n",
       "      <td>-0.005313</td>\n",
       "      <td>3386.30</td>\n",
       "      <td>0.001920</td>\n",
       "      <td>...</td>\n",
       "      <td>6.24</td>\n",
       "      <td>0.021277</td>\n",
       "      <td>7.88</td>\n",
       "      <td>0.024707</td>\n",
       "      <td>97.14</td>\n",
       "      <td>-0.003692</td>\n",
       "      <td>10.14</td>\n",
       "      <td>0.096216</td>\n",
       "      <td>3.83</td>\n",
       "      <td>0.035135</td>\n",
       "    </tr>\n",
       "    <tr>\n",
       "      <th>2022-03-30</th>\n",
       "      <td>47031.64</td>\n",
       "      <td>-0.004740</td>\n",
       "      <td>3391.53</td>\n",
       "      <td>0.005404</td>\n",
       "      <td>55.61</td>\n",
       "      <td>0.040412</td>\n",
       "      <td>83.78</td>\n",
       "      <td>0.017118</td>\n",
       "      <td>3326.02</td>\n",
       "      <td>-0.017801</td>\n",
       "      <td>...</td>\n",
       "      <td>5.87</td>\n",
       "      <td>-0.059295</td>\n",
       "      <td>7.99</td>\n",
       "      <td>0.013959</td>\n",
       "      <td>95.55</td>\n",
       "      <td>-0.016368</td>\n",
       "      <td>9.77</td>\n",
       "      <td>-0.036489</td>\n",
       "      <td>3.84</td>\n",
       "      <td>0.002611</td>\n",
       "    </tr>\n",
       "  </tbody>\n",
       "</table>\n",
       "<p>5 rows × 26 columns</p>\n",
       "</div>"
      ],
      "text/plain": [
       "              BTCUSD                ETHUSD                SHEL               \\\n",
       "               close daily_return    close daily_return  close daily_return   \n",
       "2022-03-24  44116.67     0.027585  3146.32     0.039038  55.02     0.005115   \n",
       "2022-03-25  44433.32     0.007178  3113.85    -0.010320  55.59     0.010360   \n",
       "2022-03-28  47624.51     0.071820  3391.14     0.089051  53.98    -0.028962   \n",
       "2022-03-29  47255.62    -0.007746  3373.30    -0.005261  53.45    -0.009818   \n",
       "2022-03-30  47031.64    -0.004740  3391.53     0.005404  55.61     0.040412   \n",
       "\n",
       "              XOM                  AMZN               ...  FCEL               \\\n",
       "            close daily_return    close daily_return  ... close daily_return   \n",
       "2022-03-24  83.38     0.003007  3272.99     0.001478  ...  6.62     0.007610   \n",
       "2022-03-25  85.20     0.021828  3295.47     0.006868  ...  6.22    -0.060423   \n",
       "2022-03-28  82.81    -0.028052  3379.81     0.025593  ...  6.11    -0.017685   \n",
       "2022-03-29  82.37    -0.005313  3386.30     0.001920  ...  6.24     0.021277   \n",
       "2022-03-30  83.78     0.017118  3326.02    -0.017801  ...  5.87    -0.059295   \n",
       "\n",
       "            CLNE                MYRG                SOFI                FSM  \\\n",
       "           close daily_return  close daily_return  close daily_return close   \n",
       "2022-03-24  7.77     0.007782  99.63     0.004132   9.47     0.010672  3.90   \n",
       "2022-03-25  7.92     0.019305  99.78     0.001506   9.01    -0.048574  3.84   \n",
       "2022-03-28  7.69    -0.029040  97.50    -0.022850   9.25     0.026637  3.70   \n",
       "2022-03-29  7.88     0.024707  97.14    -0.003692  10.14     0.096216  3.83   \n",
       "2022-03-30  7.99     0.013959  95.55    -0.016368   9.77    -0.036489  3.84   \n",
       "\n",
       "                         \n",
       "           daily_return  \n",
       "2022-03-24    -0.064748  \n",
       "2022-03-25    -0.015385  \n",
       "2022-03-28    -0.036458  \n",
       "2022-03-29     0.035135  \n",
       "2022-03-30     0.002611  \n",
       "\n",
       "[5 rows x 26 columns]"
      ]
     },
     "execution_count": 125,
     "metadata": {},
     "output_type": "execute_result"
    }
   ],
   "source": [
    "# Configure the Monte Carlo simulation to forecast X years cumulative returns\n",
    "\n",
    "MC_five_year = MCSimulation(\n",
    "    portfolio_data = combined_df,\n",
    "    weights = [.15, .15, .15, .15, .20, .04, .04, .04, .02, .02, .02, .01, .01],\n",
    "    num_simulation = 100,\n",
    "    num_trading_days = 252*20\n",
    ")\n",
    "\n",
    "# Review the simulation input data\n",
    "MC_five_year.portfolio_data.tail()"
   ]
  },
  {
   "cell_type": "code",
   "execution_count": 126,
   "id": "25e6b7a1-8d05-4628-b7fc-146201ff0670",
   "metadata": {},
   "outputs": [
    {
     "name": "stdout",
     "output_type": "stream",
     "text": [
      "Running Monte Carlo simulation number 0.\n",
      "Running Monte Carlo simulation number 10.\n",
      "Running Monte Carlo simulation number 20.\n",
      "Running Monte Carlo simulation number 30.\n",
      "Running Monte Carlo simulation number 40.\n",
      "Running Monte Carlo simulation number 50.\n",
      "Running Monte Carlo simulation number 60.\n",
      "Running Monte Carlo simulation number 70.\n",
      "Running Monte Carlo simulation number 80.\n",
      "Running Monte Carlo simulation number 90.\n"
     ]
    }
   ],
   "source": [
    "test_df = MC_five_year.calc_cumulative_return()"
   ]
  },
  {
   "cell_type": "code",
   "execution_count": 127,
   "id": "cce40b2d-7291-42dc-9e3d-6d53d4b851af",
   "metadata": {},
   "outputs": [
    {
     "data": {
      "image/png": "[encoded data removed]",
      "text/plain": [
       "<Figure size 432x288 with 1 Axes>"
      ]
     },
     "metadata": {
      "needs_background": "light"
     },
     "output_type": "display_data"
    }
   ],
   "source": [
    "plot = test_df.plot(\n",
    "    legend=False,\n",
    "    title='Cumulative Portfolio Returns Over the Next 5040 Days',\n",
    ")\n",
    "\n",
    "plot.set_facecolor('#B7DED5')"
   ]
  },
  {
   "cell_type": "code",
   "execution_count": 128,
   "id": "d1b97bf5-0251-4e9f-b4c7-690448345400",
   "metadata": {},
   "outputs": [
    {
     "data": {
      "image/png": "[encoded data removed]",
      "text/plain": [
       "<Figure size 432x288 with 1 Axes>"
      ]
     },
     "metadata": {
      "needs_background": "light"
     },
     "output_type": "display_data"
    }
   ],
   "source": [
    "MC_line_plot = MC_five_year.plot_simulation()"
   ]
  },
  {
   "cell_type": "code",
   "execution_count": 129,
   "id": "d1f71991-e8a7-4048-bfad-dac3c5f5f654",
   "metadata": {},
   "outputs": [
    {
     "data": {
      "image/png": "[encoded data removed]",
      "text/plain": [
       "<Figure size 432x288 with 1 Axes>"
      ]
     },
     "metadata": {
      "needs_background": "light"
     },
     "output_type": "display_data"
    }
   ],
   "source": [
    "MC_histo_plot = MC_five_year.plot_distribution()"
   ]
  },
  {
   "cell_type": "code",
   "execution_count": 130,
   "id": "12f7fe08-6796-45b0-8f68-99d546febbd1",
   "metadata": {},
   "outputs": [
    {
     "data": {
      "text/plain": [
       "count           1.000000e+02\n",
       "mean            2.163962e+07\n",
       "std             2.416602e+07\n",
       "min             9.968277e+05\n",
       "25%             7.561498e+06\n",
       "50%             1.213467e+07\n",
       "75%             2.792715e+07\n",
       "max             1.377699e+08\n",
       "95% CI Lower    1.918635e+06\n",
       "95% CI Upper    9.409520e+07\n",
       "Name: 5040, dtype: float64"
      ]
     },
     "metadata": {},
     "output_type": "display_data"
    }
   ],
   "source": [
    "# Generate summary statistics from the 30-year Monte Carlo simulation results\n",
    "# Save the results as a variable\n",
    "MC_summary_stats = MC_five_year.summarize_cumulative_return()\n",
    "\n",
    "\n",
    "# Review the 30-year Monte Carlo summary statistics\n",
    "display(MC_summary_stats)"
   ]
  },
  {
   "cell_type": "code",
   "execution_count": null,
   "id": "c44ca861-4833-43fe-9803-a044b9c3b87e",
   "metadata": {},
   "outputs": [],
   "source": []
  }
 ],
 "metadata": {
  "kernelspec": {
   "display_name": "Python (dev)",
   "language": "python",
   "name": "dev"
  },
  "language_info": {
   "codemirror_mode": {
    "name": "ipython",
    "version": 3
   },
   "file_extension": ".py",
   "mimetype": "text/x-python",
   "name": "python",
   "nbconvert_exporter": "python",
   "pygments_lexer": "ipython3",
   "version": "3.9.7"
  }
 },
 "nbformat": 4,
 "nbformat_minor": 5
}
